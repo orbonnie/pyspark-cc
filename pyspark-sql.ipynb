{
 "cells": [
  {
   "cell_type": "code",
   "execution_count": 1,
   "id": "dcbfa087-2d0c-49f5-9c5e-0a2e0b7b8799",
   "metadata": {},
   "outputs": [],
   "source": [
    "import pandas as pd"
   ]
  },
  {
   "cell_type": "code",
   "execution_count": 2,
   "id": "80a8a6c5-bdd9-4a2d-a5ef-e8d1bde0cf6e",
   "metadata": {},
   "outputs": [],
   "source": [
    "from pyspark.sql import SparkSession"
   ]
  },
  {
   "cell_type": "code",
   "execution_count": 3,
   "id": "d6132cf9-407d-402a-b1eb-4a0c6b527eff",
   "metadata": {},
   "outputs": [
    {
     "name": "stderr",
     "output_type": "stream",
     "text": [
      "Setting default log level to \"WARN\".\n",
      "To adjust logging level use sc.setLogLevel(newLevel). For SparkR, use setLogLevel(newLevel).\n"
     ]
    },
    {
     "name": "stdout",
     "output_type": "stream",
     "text": [
      "23/07/13 03:01:16 WARN NativeCodeLoader: Unable to load native-hadoop library for your platform... using builtin-java classes where applicable\n",
      "23/07/13 03:01:17 WARN Utils: Service 'SparkUI' could not bind on port 4040. Attempting port 4041.\n"
     ]
    }
   ],
   "source": [
    "spark = SparkSession.builder \\\n",
    "    .appName('spark-sql-practice') \\\n",
    "    .master('local') \\\n",
    "    .getOrCreate()"
   ]
  },
  {
   "cell_type": "code",
   "execution_count": 4,
   "id": "950d6b52-e17a-40bd-92db-0e704cfdf295",
   "metadata": {},
   "outputs": [
    {
     "name": "stderr",
     "output_type": "stream",
     "text": [
      "                                                                                \r"
     ]
    }
   ],
   "source": [
    "sales = spark.read.options(header='true', inferschema='true').csv('./data/FactInternetSales.csv')"
   ]
  },
  {
   "cell_type": "code",
   "execution_count": 5,
   "id": "8ec8ca4a-9eef-4228-9630-a8025d530a8d",
   "metadata": {},
   "outputs": [
    {
     "name": "stdout",
     "output_type": "stream",
     "text": [
      "23/07/13 03:01:52 WARN package: Truncated the string representation of a plan since it was too large. This behavior can be adjusted by setting 'spark.sql.debug.maxToStringFields'.\n"
     ]
    }
   ],
   "source": [
    "sales.createOrReplaceTempView('Sales')"
   ]
  },
  {
   "cell_type": "code",
   "execution_count": 6,
   "id": "e0d2f0c9-54b9-442d-9d65-6cfa9c94bd40",
   "metadata": {},
   "outputs": [],
   "source": [
    "customer = spark.read.options(header='true', inferschema='true').csv('./data/DimCustomer.csv')"
   ]
  },
  {
   "cell_type": "code",
   "execution_count": 7,
   "id": "1265bbfe-c49e-4660-bae7-68e8b85e2f7a",
   "metadata": {},
   "outputs": [],
   "source": [
    "customer.createOrReplaceTempView('DimCustomer')"
   ]
  },
  {
   "cell_type": "code",
   "execution_count": 8,
   "id": "c05d2604-ed0b-4262-8fb8-bc7e518d3418",
   "metadata": {},
   "outputs": [],
   "source": [
    "geog = spark.read.options(header='true', inferschema='true').csv('./data/DimGeography.csv')"
   ]
  },
  {
   "cell_type": "code",
   "execution_count": 9,
   "id": "9649f89a-6b9a-4809-9407-9528d657ca1a",
   "metadata": {},
   "outputs": [],
   "source": [
    "geog.createOrReplaceTempView('DimGeography')"
   ]
  },
  {
   "cell_type": "code",
   "execution_count": 10,
   "id": "7d60f7a4-85b5-4044-8b08-1d4b4d9f79b6",
   "metadata": {},
   "outputs": [],
   "source": [
    "spdf_salesinfo = spark.sql('select * from Sales').dropna()"
   ]
  },
  {
   "cell_type": "code",
   "execution_count": 11,
   "id": "ed051780-d8d8-42e8-ba34-60def12868f0",
   "metadata": {
    "tags": []
   },
   "outputs": [],
   "source": [
    "getcustgeo = '''\n",
    "select CustomerKey, CountryRegionCode, EnglishCountryRegionName as CountryName,\n",
    "StateProvinceCode, StateProvinceName, City, PostalCode, upper(City)as UpperCity\n",
    "from DimCustomer c\n",
    "inner join DimGeography g\n",
    "on (c.geographykey = g.geographykey)\n",
    "where countryregioncode = 'US'\n",
    "'''"
   ]
  },
  {
   "cell_type": "code",
   "execution_count": 12,
   "id": "9851e325-d42d-42ec-bf3e-cfe661b2d5f8",
   "metadata": {},
   "outputs": [],
   "source": [
    "spdf_custgeo_us = spark.sql(getcustgeo)"
   ]
  },
  {
   "cell_type": "code",
   "execution_count": 13,
   "id": "5ab50043-7d9b-405c-a1b9-70fa39b6200b",
   "metadata": {
    "tags": []
   },
   "outputs": [
    {
     "name": "stdout",
     "output_type": "stream",
     "text": [
      "+-----------+-----------------+-------------+-----------------+-----------------+--------------+----------+--------------+\n",
      "|CustomerKey|CountryRegionCode|  CountryName|StateProvinceCode|StateProvinceName|          City|PostalCode|     UpperCity|\n",
      "+-----------+-----------------+-------------+-----------------+-----------------+--------------+----------+--------------+\n",
      "|      11012|               US|United States|               WA|       Washington|     Bremerton|     98312|     BREMERTON|\n",
      "|      11013|               US|United States|               OR|           Oregon|       Lebanon|     97355|       LEBANON|\n",
      "|      11014|               US|United States|               WA|       Washington|       Redmond|     98052|       REDMOND|\n",
      "|      11015|               US|United States|               CA|       California|       Burbank|     91502|       BURBANK|\n",
      "|      11016|               US|United States|               CA|       California|Imperial Beach|     91932|IMPERIAL BEACH|\n",
      "|      11021|               US|United States|               OR|           Oregon|     Beaverton|     97005|     BEAVERTON|\n",
      "|      11022|               US|United States|               WA|       Washington|    Bellingham|     98225|    BELLINGHAM|\n",
      "|      11023|               US|United States|               CA|       California|    Bellflower|     90706|    BELLFLOWER|\n",
      "|      11024|               US|United States|               CA|       California|       Concord|     94519|       CONCORD|\n",
      "|      11036|               US|United States|               CA|       California| National City|     91950| NATIONAL CITY|\n",
      "|      11040|               US|United States|               WA|       Washington|        Tacoma|     98403|        TACOMA|\n",
      "|      11041|               US|United States|               CA|       California|      Glendale|     91203|      GLENDALE|\n",
      "|      11042|               US|United States|               CA|       California|   Los Angeles|     90012|   LOS ANGELES|\n",
      "|      11043|               US|United States|               CA|       California|      Glendale|     91203|      GLENDALE|\n",
      "|      11049|               US|United States|               CA|       California|   Chula Vista|     91910|   CHULA VISTA|\n",
      "|      11053|               US|United States|               CA|       California|     San Diego|     92102|     SAN DIEGO|\n",
      "|      11062|               US|United States|               OR|           Oregon|      Portland|     97205|      PORTLAND|\n",
      "|      11063|               US|United States|               WA|       Washington|       Redmond|     98052|       REDMOND|\n",
      "|      11064|               US|United States|               CA|       California|        Downey|     90241|        DOWNEY|\n",
      "|      11065|               US|United States|               CA|       California|      La Jolla|     92806|      LA JOLLA|\n",
      "+-----------+-----------------+-------------+-----------------+-----------------+--------------+----------+--------------+\n",
      "only showing top 20 rows\n",
      "\n"
     ]
    }
   ],
   "source": [
    "spdf_custgeo_us.show()"
   ]
  },
  {
   "cell_type": "code",
   "execution_count": 14,
   "id": "68617afc-a8a9-4971-b6d1-8e25abd4535f",
   "metadata": {
    "tags": []
   },
   "outputs": [],
   "source": [
    "spdf_salesinfo = spdf_salesinfo.withColumn('TaxRate', spdf_salesinfo.TaxAmt / spdf_salesinfo.SalesAmount)"
   ]
  },
  {
   "cell_type": "code",
   "execution_count": 19,
   "id": "f6214fae-a2cb-4b5f-808c-e83df17d8348",
   "metadata": {
    "tags": []
   },
   "outputs": [],
   "source": [
    "lpdf_salesinfo = spark.sql('''select * from Sales limit 20''').toPandas()"
   ]
  },
  {
   "cell_type": "code",
   "execution_count": 23,
   "id": "980bcc15-903c-477f-8be7-70b5692dc8ea",
   "metadata": {},
   "outputs": [
    {
     "data": {
      "text/html": [
       "<div>\n",
       "<style scoped>\n",
       "    .dataframe tbody tr th:only-of-type {\n",
       "        vertical-align: middle;\n",
       "    }\n",
       "\n",
       "    .dataframe tbody tr th {\n",
       "        vertical-align: top;\n",
       "    }\n",
       "\n",
       "    .dataframe thead th {\n",
       "        text-align: right;\n",
       "    }\n",
       "</style>\n",
       "<table border=\"1\" class=\"dataframe\">\n",
       "  <thead>\n",
       "    <tr style=\"text-align: right;\">\n",
       "      <th></th>\n",
       "      <th>ProductKey</th>\n",
       "      <th>OrderDateKey</th>\n",
       "      <th>DueDateKey</th>\n",
       "      <th>ShipDateKey</th>\n",
       "      <th>CustomerKey</th>\n",
       "      <th>PromotionKey</th>\n",
       "      <th>CurrencyKey</th>\n",
       "      <th>SalesTerritoryKey</th>\n",
       "      <th>SalesOrderLineNumber</th>\n",
       "      <th>RevisionNumber</th>\n",
       "      <th>OrderQuantity</th>\n",
       "      <th>UnitPrice</th>\n",
       "      <th>ExtendedAmount</th>\n",
       "      <th>UnitPriceDiscountPct</th>\n",
       "      <th>DiscountAmount</th>\n",
       "      <th>ProductStandardCost</th>\n",
       "      <th>TotalProductCost</th>\n",
       "      <th>SalesAmount</th>\n",
       "      <th>TaxAmt</th>\n",
       "      <th>Freight</th>\n",
       "    </tr>\n",
       "  </thead>\n",
       "  <tbody>\n",
       "    <tr>\n",
       "      <th>count</th>\n",
       "      <td>20.000000</td>\n",
       "      <td>2.000000e+01</td>\n",
       "      <td>2.000000e+01</td>\n",
       "      <td>2.000000e+01</td>\n",
       "      <td>20.000000</td>\n",
       "      <td>20.0</td>\n",
       "      <td>20.00000</td>\n",
       "      <td>20.000000</td>\n",
       "      <td>20.0</td>\n",
       "      <td>20.0</td>\n",
       "      <td>20.0</td>\n",
       "      <td>20.000000</td>\n",
       "      <td>20.000000</td>\n",
       "      <td>20.0</td>\n",
       "      <td>20.0</td>\n",
       "      <td>20.000000</td>\n",
       "      <td>20.000000</td>\n",
       "      <td>20.000000</td>\n",
       "      <td>20.000000</td>\n",
       "      <td>20.000000</td>\n",
       "    </tr>\n",
       "    <tr>\n",
       "      <th>mean</th>\n",
       "      <td>322.600000</td>\n",
       "      <td>2.010389e+07</td>\n",
       "      <td>2.011011e+07</td>\n",
       "      <td>2.011011e+07</td>\n",
       "      <td>19563.950000</td>\n",
       "      <td>1.0</td>\n",
       "      <td>51.55000</td>\n",
       "      <td>6.750000</td>\n",
       "      <td>1.0</td>\n",
       "      <td>1.0</td>\n",
       "      <td>1.0</td>\n",
       "      <td>3244.532820</td>\n",
       "      <td>3244.532820</td>\n",
       "      <td>0.0</td>\n",
       "      <td>0.0</td>\n",
       "      <td>1929.991460</td>\n",
       "      <td>1929.991460</td>\n",
       "      <td>3244.532820</td>\n",
       "      <td>259.562630</td>\n",
       "      <td>81.113370</td>\n",
       "    </tr>\n",
       "    <tr>\n",
       "      <th>std</th>\n",
       "      <td>15.719247</td>\n",
       "      <td>4.171124e+03</td>\n",
       "      <td>1.472556e+00</td>\n",
       "      <td>1.472556e+00</td>\n",
       "      <td>6535.510478</td>\n",
       "      <td>0.0</td>\n",
       "      <td>45.34717</td>\n",
       "      <td>2.971354</td>\n",
       "      <td>0.0</td>\n",
       "      <td>0.0</td>\n",
       "      <td>0.0</td>\n",
       "      <td>874.194613</td>\n",
       "      <td>874.194613</td>\n",
       "      <td>0.0</td>\n",
       "      <td>0.0</td>\n",
       "      <td>531.179408</td>\n",
       "      <td>531.179408</td>\n",
       "      <td>874.194613</td>\n",
       "      <td>69.935556</td>\n",
       "      <td>21.854867</td>\n",
       "    </tr>\n",
       "    <tr>\n",
       "      <th>min</th>\n",
       "      <td>310.000000</td>\n",
       "      <td>2.010123e+07</td>\n",
       "      <td>2.011011e+07</td>\n",
       "      <td>2.011010e+07</td>\n",
       "      <td>11003.000000</td>\n",
       "      <td>1.0</td>\n",
       "      <td>6.00000</td>\n",
       "      <td>1.000000</td>\n",
       "      <td>1.0</td>\n",
       "      <td>1.0</td>\n",
       "      <td>1.0</td>\n",
       "      <td>699.098200</td>\n",
       "      <td>699.098200</td>\n",
       "      <td>0.0</td>\n",
       "      <td>0.0</td>\n",
       "      <td>413.146300</td>\n",
       "      <td>413.146300</td>\n",
       "      <td>699.098200</td>\n",
       "      <td>55.927900</td>\n",
       "      <td>17.477500</td>\n",
       "    </tr>\n",
       "    <tr>\n",
       "      <th>25%</th>\n",
       "      <td>311.000000</td>\n",
       "      <td>2.010123e+07</td>\n",
       "      <td>2.011011e+07</td>\n",
       "      <td>2.011011e+07</td>\n",
       "      <td>14273.500000</td>\n",
       "      <td>1.0</td>\n",
       "      <td>6.00000</td>\n",
       "      <td>4.000000</td>\n",
       "      <td>1.0</td>\n",
       "      <td>1.0</td>\n",
       "      <td>1.0</td>\n",
       "      <td>3399.990000</td>\n",
       "      <td>3399.990000</td>\n",
       "      <td>0.0</td>\n",
       "      <td>0.0</td>\n",
       "      <td>1912.154400</td>\n",
       "      <td>1912.154400</td>\n",
       "      <td>3399.990000</td>\n",
       "      <td>271.999200</td>\n",
       "      <td>84.999800</td>\n",
       "    </tr>\n",
       "    <tr>\n",
       "      <th>50%</th>\n",
       "      <td>313.500000</td>\n",
       "      <td>2.010123e+07</td>\n",
       "      <td>2.011011e+07</td>\n",
       "      <td>2.011011e+07</td>\n",
       "      <td>16576.500000</td>\n",
       "      <td>1.0</td>\n",
       "      <td>34.00000</td>\n",
       "      <td>8.500000</td>\n",
       "      <td>1.0</td>\n",
       "      <td>1.0</td>\n",
       "      <td>1.0</td>\n",
       "      <td>3578.270000</td>\n",
       "      <td>3578.270000</td>\n",
       "      <td>0.0</td>\n",
       "      <td>0.0</td>\n",
       "      <td>2171.294200</td>\n",
       "      <td>2171.294200</td>\n",
       "      <td>3578.270000</td>\n",
       "      <td>286.261600</td>\n",
       "      <td>89.456800</td>\n",
       "    </tr>\n",
       "    <tr>\n",
       "      <th>75%</th>\n",
       "      <td>338.000000</td>\n",
       "      <td>2.011010e+07</td>\n",
       "      <td>2.011011e+07</td>\n",
       "      <td>2.011011e+07</td>\n",
       "      <td>27602.250000</td>\n",
       "      <td>1.0</td>\n",
       "      <td>100.00000</td>\n",
       "      <td>9.000000</td>\n",
       "      <td>1.0</td>\n",
       "      <td>1.0</td>\n",
       "      <td>1.0</td>\n",
       "      <td>3578.270000</td>\n",
       "      <td>3578.270000</td>\n",
       "      <td>0.0</td>\n",
       "      <td>0.0</td>\n",
       "      <td>2171.294200</td>\n",
       "      <td>2171.294200</td>\n",
       "      <td>3578.270000</td>\n",
       "      <td>286.261600</td>\n",
       "      <td>89.456800</td>\n",
       "    </tr>\n",
       "    <tr>\n",
       "      <th>max</th>\n",
       "      <td>351.000000</td>\n",
       "      <td>2.011010e+07</td>\n",
       "      <td>2.011011e+07</td>\n",
       "      <td>2.011011e+07</td>\n",
       "      <td>28389.000000</td>\n",
       "      <td>1.0</td>\n",
       "      <td>100.00000</td>\n",
       "      <td>10.000000</td>\n",
       "      <td>1.0</td>\n",
       "      <td>1.0</td>\n",
       "      <td>1.0</td>\n",
       "      <td>3578.270000</td>\n",
       "      <td>3578.270000</td>\n",
       "      <td>0.0</td>\n",
       "      <td>0.0</td>\n",
       "      <td>2171.294200</td>\n",
       "      <td>2171.294200</td>\n",
       "      <td>3578.270000</td>\n",
       "      <td>286.261600</td>\n",
       "      <td>89.456800</td>\n",
       "    </tr>\n",
       "  </tbody>\n",
       "</table>\n",
       "</div>"
      ],
      "text/plain": [
       "       ProductKey  OrderDateKey    DueDateKey   ShipDateKey   CustomerKey  \\\n",
       "count   20.000000  2.000000e+01  2.000000e+01  2.000000e+01     20.000000   \n",
       "mean   322.600000  2.010389e+07  2.011011e+07  2.011011e+07  19563.950000   \n",
       "std     15.719247  4.171124e+03  1.472556e+00  1.472556e+00   6535.510478   \n",
       "min    310.000000  2.010123e+07  2.011011e+07  2.011010e+07  11003.000000   \n",
       "25%    311.000000  2.010123e+07  2.011011e+07  2.011011e+07  14273.500000   \n",
       "50%    313.500000  2.010123e+07  2.011011e+07  2.011011e+07  16576.500000   \n",
       "75%    338.000000  2.011010e+07  2.011011e+07  2.011011e+07  27602.250000   \n",
       "max    351.000000  2.011010e+07  2.011011e+07  2.011011e+07  28389.000000   \n",
       "\n",
       "       PromotionKey  CurrencyKey  SalesTerritoryKey  SalesOrderLineNumber  \\\n",
       "count          20.0     20.00000          20.000000                  20.0   \n",
       "mean            1.0     51.55000           6.750000                   1.0   \n",
       "std             0.0     45.34717           2.971354                   0.0   \n",
       "min             1.0      6.00000           1.000000                   1.0   \n",
       "25%             1.0      6.00000           4.000000                   1.0   \n",
       "50%             1.0     34.00000           8.500000                   1.0   \n",
       "75%             1.0    100.00000           9.000000                   1.0   \n",
       "max             1.0    100.00000          10.000000                   1.0   \n",
       "\n",
       "       RevisionNumber  OrderQuantity    UnitPrice  ExtendedAmount  \\\n",
       "count            20.0           20.0    20.000000       20.000000   \n",
       "mean              1.0            1.0  3244.532820     3244.532820   \n",
       "std               0.0            0.0   874.194613      874.194613   \n",
       "min               1.0            1.0   699.098200      699.098200   \n",
       "25%               1.0            1.0  3399.990000     3399.990000   \n",
       "50%               1.0            1.0  3578.270000     3578.270000   \n",
       "75%               1.0            1.0  3578.270000     3578.270000   \n",
       "max               1.0            1.0  3578.270000     3578.270000   \n",
       "\n",
       "       UnitPriceDiscountPct  DiscountAmount  ProductStandardCost  \\\n",
       "count                  20.0            20.0            20.000000   \n",
       "mean                    0.0             0.0          1929.991460   \n",
       "std                     0.0             0.0           531.179408   \n",
       "min                     0.0             0.0           413.146300   \n",
       "25%                     0.0             0.0          1912.154400   \n",
       "50%                     0.0             0.0          2171.294200   \n",
       "75%                     0.0             0.0          2171.294200   \n",
       "max                     0.0             0.0          2171.294200   \n",
       "\n",
       "       TotalProductCost  SalesAmount      TaxAmt    Freight  \n",
       "count         20.000000    20.000000   20.000000  20.000000  \n",
       "mean        1929.991460  3244.532820  259.562630  81.113370  \n",
       "std          531.179408   874.194613   69.935556  21.854867  \n",
       "min          413.146300   699.098200   55.927900  17.477500  \n",
       "25%         1912.154400  3399.990000  271.999200  84.999800  \n",
       "50%         2171.294200  3578.270000  286.261600  89.456800  \n",
       "75%         2171.294200  3578.270000  286.261600  89.456800  \n",
       "max         2171.294200  3578.270000  286.261600  89.456800  "
      ]
     },
     "execution_count": 23,
     "metadata": {},
     "output_type": "execute_result"
    }
   ],
   "source": [
    "lpdf_salesinfo.describe()"
   ]
  },
  {
   "cell_type": "code",
   "execution_count": 25,
   "id": "0604ca07-75ab-4acd-83b7-8a8361d0846e",
   "metadata": {},
   "outputs": [],
   "source": [
    "q = '''select salesTerritoryKey, \n",
    "count(*) TotalSales,\n",
    "avg(SalesAmount) AverageSales\n",
    "from Sales\n",
    "group by SalesTerritoryKey\n",
    "'''"
   ]
  },
  {
   "cell_type": "code",
   "execution_count": 26,
   "id": "55177d2c-62b7-438e-9b61-7a14f780e912",
   "metadata": {},
   "outputs": [],
   "source": [
    "salesSummary = spark.sql(q)"
   ]
  },
  {
   "cell_type": "code",
   "execution_count": 27,
   "id": "367c9188-9c5a-4d6d-bbf0-fc4cc84ca786",
   "metadata": {},
   "outputs": [
    {
     "name": "stdout",
     "output_type": "stream",
     "text": [
      "+-----------------+----------+------------------+\n",
      "|salesTerritoryKey|TotalSales|      AverageSales|\n",
      "+-----------------+----------+------------------+\n",
      "|                1|      8993| 405.8563939954403|\n",
      "|                6|      7620|259.55969318897314|\n",
      "|                3|        20|150.04147999999984|\n",
      "|                5|        39|313.81665641025626|\n",
      "|                9|     13345| 678.9809355115657|\n",
      "|                4|     12265| 466.2169435142324|\n",
      "|                8|      5625| 514.5444156800735|\n",
      "|                7|      5558|475.71387446929265|\n",
      "|               10|      6906|491.12542874322526|\n",
      "|                2|        27|241.94326666666652|\n",
      "+-----------------+----------+------------------+\n",
      "\n"
     ]
    }
   ],
   "source": [
    "salesSummary.show()"
   ]
  },
  {
   "cell_type": "code",
   "execution_count": null,
   "id": "857aaa93-4403-4287-899d-6fd559e0eaa8",
   "metadata": {},
   "outputs": [],
   "source": []
  }
 ],
 "metadata": {
  "environment": {
   "kernel": "python3",
   "name": "tf2-gpu.2-6.m109",
   "type": "gcloud",
   "uri": "gcr.io/deeplearning-platform-release/tf2-gpu.2-6:m109"
  },
  "kernelspec": {
   "display_name": "Python 3",
   "language": "python",
   "name": "python3"
  },
  "language_info": {
   "codemirror_mode": {
    "name": "ipython",
    "version": 3
   },
   "file_extension": ".py",
   "mimetype": "text/x-python",
   "name": "python",
   "nbconvert_exporter": "python",
   "pygments_lexer": "ipython3",
   "version": "3.9.16"
  }
 },
 "nbformat": 4,
 "nbformat_minor": 5
}
