{
 "cells": [
  {
   "cell_type": "code",
   "execution_count": 21,
   "id": "92a2ea19-eb8a-4dc7-b41f-58d664bdbe38",
   "metadata": {},
   "outputs": [],
   "source": [
    "import pandas as pd"
   ]
  },
  {
   "cell_type": "code",
   "execution_count": 2,
   "id": "22fa5490-af48-4014-84a2-c9024225aa7d",
   "metadata": {},
   "outputs": [],
   "source": [
    "from pyspark import SparkContext, SparkConf\n",
    "spark_conf = SparkConf()\\\n",
    "  .setAppName(\"YourTest\")\\\n",
    "  .setMaster(\"local[*]\")"
   ]
  },
  {
   "cell_type": "code",
   "execution_count": 3,
   "id": "facb6d23-1905-4bc0-a07d-e8ec9d027bb4",
   "metadata": {},
   "outputs": [
    {
     "name": "stderr",
     "output_type": "stream",
     "text": [
      "Setting default log level to \"WARN\".\n",
      "To adjust logging level use sc.setLogLevel(newLevel). For SparkR, use setLogLevel(newLevel).\n"
     ]
    },
    {
     "name": "stdout",
     "output_type": "stream",
     "text": [
      "23/07/12 14:22:19 WARN NativeCodeLoader: Unable to load native-hadoop library for your platform... using builtin-java classes where applicable\n",
      "23/07/12 14:22:20 WARN Utils: Service 'SparkUI' could not bind on port 4040. Attempting port 4041.\n",
      "23/07/12 14:22:20 WARN Utils: Service 'SparkUI' could not bind on port 4041. Attempting port 4042.\n"
     ]
    }
   ],
   "source": [
    "sc = SparkContext.getOrCreate(spark_conf)"
   ]
  },
  {
   "cell_type": "code",
   "execution_count": 36,
   "id": "ee5f04af-6667-45d6-889d-5bb0593c2b4c",
   "metadata": {},
   "outputs": [],
   "source": [
    "from pyspark.sql import SparkSession"
   ]
  },
  {
   "cell_type": "code",
   "execution_count": 38,
   "id": "a00c7fff-60c1-47ae-b4dd-73b6390765b5",
   "metadata": {},
   "outputs": [],
   "source": [
    "# Create Spark session\n",
    "spark = SparkSession.builder \\\n",
    "    .appName(\"YourTest\") \\\n",
    "    .master(\"local\") \\\n",
    "    .getOrCreate()"
   ]
  },
  {
   "cell_type": "code",
   "execution_count": 49,
   "id": "d1b74817-6ae8-4187-8e27-caa9606cdae6",
   "metadata": {},
   "outputs": [],
   "source": [
    "poem = pd.read_csv('poem.txt', sep=\"\\r\", header=None)"
   ]
  },
  {
   "cell_type": "code",
   "execution_count": 52,
   "id": "60a9614d-e68c-4ae4-94ec-415908e97dbb",
   "metadata": {},
   "outputs": [],
   "source": [
    "p = sc.textFile(\"poem.txt\")"
   ]
  },
  {
   "cell_type": "code",
   "execution_count": 53,
   "id": "0d324367-dd14-4908-a52c-1c4f7837ca5a",
   "metadata": {},
   "outputs": [
    {
     "data": {
      "text/plain": [
       "['To be, or not to be, that is the question:',\n",
       " \"Whether 'tis nobler in the mind to suffer\"]"
      ]
     },
     "execution_count": 53,
     "metadata": {},
     "output_type": "execute_result"
    }
   ],
   "source": [
    "p.take(2) "
   ]
  },
  {
   "cell_type": "code",
   "execution_count": 57,
   "id": "12dc5f95-e9f8-4d06-aad6-8ae5b04b4efd",
   "metadata": {},
   "outputs": [],
   "source": [
    "lineLengths = p.map(lambda s: len(s))"
   ]
  },
  {
   "cell_type": "code",
   "execution_count": 58,
   "id": "068020c1-b7b5-44c3-a893-aca108dc87f4",
   "metadata": {},
   "outputs": [
    {
     "data": {
      "text/plain": [
       "[42, 41, 44, 41, 42, 37, 46, 42, 40, 49]"
      ]
     },
     "execution_count": 58,
     "metadata": {},
     "output_type": "execute_result"
    }
   ],
   "source": [
    "lineLengths.take(10)"
   ]
  },
  {
   "cell_type": "code",
   "execution_count": 60,
   "id": "8cf766ca-3259-4a25-a555-99b7d3c91ac3",
   "metadata": {},
   "outputs": [],
   "source": [
    "totalLength = lineLengths.reduce(lambda a, b: a + b)"
   ]
  },
  {
   "cell_type": "code",
   "execution_count": 61,
   "id": "19815a49-f39b-4a28-8e37-0a8acfa4dc35",
   "metadata": {},
   "outputs": [
    {
     "data": {
      "text/plain": [
       "1373"
      ]
     },
     "execution_count": 61,
     "metadata": {},
     "output_type": "execute_result"
    }
   ],
   "source": [
    "totalLength"
   ]
  },
  {
   "cell_type": "code",
   "execution_count": 63,
   "id": "64748a31-6fbf-4cb3-ac81-3adc35a32c85",
   "metadata": {},
   "outputs": [
    {
     "data": {
      "text/plain": [
       "5"
      ]
     },
     "execution_count": 63,
     "metadata": {},
     "output_type": "execute_result"
    }
   ],
   "source": [
    "rdd = sc.parallelize([1, 2, 3, 4, 5])\n",
    "rdd.count()"
   ]
  },
  {
   "cell_type": "code",
   "execution_count": 64,
   "id": "6ad0b81e-9ded-4d8c-b3c5-7074013ca03e",
   "metadata": {},
   "outputs": [
    {
     "data": {
      "text/plain": [
       "[1, 2, 3]"
      ]
     },
     "execution_count": 64,
     "metadata": {},
     "output_type": "execute_result"
    }
   ],
   "source": [
    "rdd.take(3)"
   ]
  },
  {
   "cell_type": "code",
   "execution_count": 66,
   "id": "4ba500f4-8b74-4912-aaa7-008d16844646",
   "metadata": {},
   "outputs": [
    {
     "data": {
      "text/plain": [
       "2"
      ]
     },
     "execution_count": 66,
     "metadata": {},
     "output_type": "execute_result"
    }
   ],
   "source": [
    "p.getNumPartitions()"
   ]
  },
  {
   "cell_type": "code",
   "execution_count": 67,
   "id": "84dc5085-dfea-414a-bcf6-cb25619d504e",
   "metadata": {},
   "outputs": [],
   "source": [
    "def transfunc(lines):\n",
    "    return lines.lower().split()"
   ]
  },
  {
   "cell_type": "code",
   "execution_count": 68,
   "id": "77adc70a-c3b7-4800-a21f-1a73bc864ea5",
   "metadata": {},
   "outputs": [],
   "source": [
    "words = p.map(transfunc)"
   ]
  },
  {
   "cell_type": "code",
   "execution_count": 71,
   "id": "44a84991-5cd4-470a-87d7-29c1fb363f9b",
   "metadata": {},
   "outputs": [],
   "source": [
    "flatWords = p.flatMap(transfunc)"
   ]
  },
  {
   "cell_type": "code",
   "execution_count": 70,
   "id": "9a45d59b-4cca-44b4-93ce-e57210178356",
   "metadata": {},
   "outputs": [
    {
     "data": {
      "text/plain": [
       "[['to', 'be,', 'or', 'not', 'to', 'be,', 'that', 'is', 'the', 'question:'],\n",
       " ['whether', \"'tis\", 'nobler', 'in', 'the', 'mind', 'to', 'suffer'],\n",
       " ['the', 'slings', 'and', 'arrows', 'of', 'outrageous', 'fortune,'],\n",
       " ['or', 'to', 'take', 'arms', 'against', 'a', 'sea', 'of', 'troubles'],\n",
       " ['and', 'by', 'opposing', 'end', 'them.', 'to', 'die—to', 'sleep,']]"
      ]
     },
     "execution_count": 70,
     "metadata": {},
     "output_type": "execute_result"
    }
   ],
   "source": [
    "words.take(5)"
   ]
  },
  {
   "cell_type": "code",
   "execution_count": 73,
   "id": "b4665ecb-18a4-4b88-86a2-b8b1b8577621",
   "metadata": {},
   "outputs": [
    {
     "data": {
      "text/plain": [
       "['to',\n",
       " 'be,',\n",
       " 'or',\n",
       " 'not',\n",
       " 'to',\n",
       " 'be,',\n",
       " 'that',\n",
       " 'is',\n",
       " 'the',\n",
       " 'question:',\n",
       " 'whether',\n",
       " \"'tis\",\n",
       " 'nobler',\n",
       " 'in',\n",
       " 'the',\n",
       " 'mind',\n",
       " 'to',\n",
       " 'suffer',\n",
       " 'the',\n",
       " 'slings',\n",
       " 'and',\n",
       " 'arrows',\n",
       " 'of',\n",
       " 'outrageous',\n",
       " 'fortune,']"
      ]
     },
     "execution_count": 73,
     "metadata": {},
     "output_type": "execute_result"
    }
   ],
   "source": [
    "flatWords.take(25)"
   ]
  },
  {
   "cell_type": "code",
   "execution_count": 75,
   "id": "f2b19df3-19ff-4ed9-a42e-445c50a3916d",
   "metadata": {},
   "outputs": [
    {
     "data": {
      "text/plain": [
       "163"
      ]
     },
     "execution_count": 75,
     "metadata": {},
     "output_type": "execute_result"
    }
   ],
   "source": [
    "flatWords.distinct().count()"
   ]
  },
  {
   "cell_type": "code",
   "execution_count": 78,
   "id": "b535bc61-0d14-4d4e-9e52-42ae197cb2b9",
   "metadata": {},
   "outputs": [],
   "source": [
    "skip = ['to', 'the', 'of']"
   ]
  },
  {
   "cell_type": "code",
   "execution_count": 79,
   "id": "82a81643-5d81-447e-a18c-08804e2c3014",
   "metadata": {},
   "outputs": [],
   "source": [
    "condensed = flatWords.filter(lambda w: w not in skip)"
   ]
  },
  {
   "cell_type": "code",
   "execution_count": 81,
   "id": "d9991959-1bd1-4790-85a6-04b23d955456",
   "metadata": {},
   "outputs": [
    {
     "data": {
      "text/plain": [
       "['be,',\n",
       " 'or',\n",
       " 'not',\n",
       " 'be,',\n",
       " 'that',\n",
       " 'is',\n",
       " 'question:',\n",
       " 'whether',\n",
       " \"'tis\",\n",
       " 'nobler']"
      ]
     },
     "execution_count": 81,
     "metadata": {},
     "output_type": "execute_result"
    }
   ],
   "source": [
    "condensed.take(10)"
   ]
  },
  {
   "cell_type": "code",
   "execution_count": 82,
   "id": "30698887-e121-4506-a1c4-b88b8d6735bf",
   "metadata": {},
   "outputs": [],
   "source": [
    "nums = sc.parallelize(range(1, 500))"
   ]
  },
  {
   "cell_type": "code",
   "execution_count": 84,
   "id": "eefda0bc-2b24-47f5-8481-2356395d7cf6",
   "metadata": {},
   "outputs": [
    {
     "data": {
      "text/plain": [
       "(499, 1, 124750, 20750.0, 144.04860290887933)"
      ]
     },
     "execution_count": 84,
     "metadata": {},
     "output_type": "execute_result"
    }
   ],
   "source": [
    "nums.max(), nums.min(), nums.sum(), nums.variance(), nums.stdev()"
   ]
  },
  {
   "cell_type": "code",
   "execution_count": 87,
   "id": "11a0250b-eb37-435d-9b29-a35c0ecfaf99",
   "metadata": {},
   "outputs": [
    {
     "data": {
      "text/plain": [
       "250.0"
      ]
     },
     "execution_count": 87,
     "metadata": {},
     "output_type": "execute_result"
    }
   ],
   "source": [
    "nums.mean()"
   ]
  }
 ],
 "metadata": {
  "environment": {
   "kernel": "python3",
   "name": "tf2-gpu.2-6.m109",
   "type": "gcloud",
   "uri": "gcr.io/deeplearning-platform-release/tf2-gpu.2-6:m109"
  },
  "kernelspec": {
   "display_name": "Python 3",
   "language": "python",
   "name": "python3"
  },
  "language_info": {
   "codemirror_mode": {
    "name": "ipython",
    "version": 3
   },
   "file_extension": ".py",
   "mimetype": "text/x-python",
   "name": "python",
   "nbconvert_exporter": "python",
   "pygments_lexer": "ipython3",
   "version": "3.9.16"
  }
 },
 "nbformat": 4,
 "nbformat_minor": 5
}
